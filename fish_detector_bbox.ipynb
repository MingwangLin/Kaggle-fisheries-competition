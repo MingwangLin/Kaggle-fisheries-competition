{
 "cells": [
  {
   "cell_type": "markdown",
   "metadata": {},
   "source": [
    "# Intro\n",
    "\n",
    "A fully convnet model to detect fishes. Steps:\n",
    "\n",
    "- Create a data set of fish and no-fish\n",
    "- Load all bounding boxes and create a mask for every image\n",
    "- Create a fully convolutional network (ie. VGG - dense layers + a few conv layers)\n",
    "  Traget values for the network are 22x40 masks\n",
    "  \n",
    "- Predict masks for test set\n",
    "- Find the brightest contours on the mask, and take the biggest\n",
    "- Crop a square around the center of the biggest contour \n",
    "\n",
    "Inspired by this work: http://rocknrollnerd.github.io/ml/2015/11/26/right-whales.html\n",
    "\n",
    "Validation: \n",
    "Visually checking results\n",
    "\n",
    "ToDo:\n",
    "Augmentation for training and mask data \n",
    "\n",
    "\n",
    "Thanks to Naive shuai for bounding boxes and to Jeremy Howard for his incredibly useful lecture on fasti.ai.\n"
   ]
  },
  {
   "cell_type": "code",
   "execution_count": 1,
   "metadata": {
    "collapsed": false
   },
   "outputs": [
    {
     "name": "stderr",
     "output_type": "stream",
     "text": [
      "Using gpu device 0: Tesla K80 (CNMeM is disabled, cuDNN 5103)\n",
      "/home/ubuntu/anaconda2/lib/python2.7/site-packages/theano/sandbox/cuda/__init__.py:600: UserWarning: Your cuDNN version is more recent than the one Theano officially supports. If you see any problems, try updating Theano or downgrading cuDNN to version 5.\n",
      "  warnings.warn(warn)\n",
      "Using Theano backend.\n"
     ]
    }
   ],
   "source": [
    "%matplotlib inline\n",
    "import utils#; reload(utils)\n",
    "from utils import *\n",
    "from __future__ import division, print_function\n",
    "\n",
    "\n",
    "import os\n",
    "import random\n",
    "\n",
    "import numpy as np\n",
    "import matplotlib.pyplot as plt\n",
    "\n",
    "from glob import iglob, glob\n",
    "\n",
    "from keras.callbacks import ModelCheckpoint\n",
    "from keras.preprocessing.image import load_img, img_to_array\n",
    "\n",
    "from scipy.misc import imresize, toimage\n",
    "import ujson as json\n",
    "import cv2\n",
    "\n",
    "ROOT_DIR = os.getcwd()\n",
    "DATA_HOME_DIR = ROOT_DIR + '/data/'\n",
    "%matplotlib inline\n",
    "\n"
   ]
  },
  {
   "cell_type": "code",
   "execution_count": 2,
   "metadata": {
    "collapsed": false
   },
   "outputs": [],
   "source": [
    "DATA_HOME_DIR\n",
    "path = DATA_HOME_DIR+\"fishnofish/\"\n",
    "batch_size=16"
   ]
  },
  {
   "cell_type": "code",
   "execution_count": 3,
   "metadata": {
    "collapsed": true
   },
   "outputs": [],
   "source": [
    "anno_classes = [\"Fish\"]#['alb', 'bet', 'dol', 'lag', 'other', 'shark', 'yft']\n"
   ]
  },
  {
   "cell_type": "markdown",
   "metadata": {},
   "source": [
    "### Loading data"
   ]
  },
  {
   "cell_type": "code",
   "execution_count": 14,
   "metadata": {
    "collapsed": false
   },
   "outputs": [
    {
     "name": "stdout",
     "output_type": "stream",
     "text": [
      "Found 450 images belonging to 2 classes.\n"
     ]
    }
   ],
   "source": [
    "# trn = get_data(path+'train', (360,640))\n",
    "val = get_data(path+'valid', (360,640))\n",
    "# test = get_data(path+'test', (360,640))"
   ]
  },
  {
   "cell_type": "code",
   "execution_count": 10,
   "metadata": {
    "collapsed": false
   },
   "outputs": [],
   "source": [
    "#non_processed: 'results/test_640.dat'"
   ]
  },
  {
   "cell_type": "code",
   "execution_count": 15,
   "metadata": {
    "collapsed": false,
    "scrolled": false
   },
   "outputs": [
    {
     "name": "stdout",
     "output_type": "stream",
     "text": [
      "Found 3327 images belonging to 2 classes.\n",
      "Found 450 images belonging to 2 classes.\n",
      "Found 1000 images belonging to 1 classes.\n"
     ]
    }
   ],
   "source": [
    "#path = \"data/fish/sample/\"\n",
    "\n",
    "\n",
    "\n",
    "(val_classes, trn_classes, val_labels, trn_labels, \n",
    "    val_filenames, filenames, test_filenames) = get_classes(path)\n",
    "\n",
    "raw_filenames = [f.split('/')[-1] for f in filenames]\n",
    "raw_test_filenames = [f.split('/')[-1] for f in test_filenames]\n",
    "raw_val_filenames = [f.split('/')[-1] for f in val_filenames]\n",
    "\n",
    "# raw_val_filenames[0]"
   ]
  },
  {
   "cell_type": "markdown",
   "metadata": {},
   "source": [
    "### Processing bounding boxes\n"
   ]
  },
  {
   "cell_type": "code",
   "execution_count": 16,
   "metadata": {
    "collapsed": false
   },
   "outputs": [],
   "source": [
    "bb_json = {}\n",
    "for c in anno_classes:\n",
    "    j = json.load(open('{}/all_fish_labels.json'.format(DATA_HOME_DIR, c), 'r'))\n",
    "#     print (\"Files with multiple bounding boxes: \")\n",
    "    for  i , l in enumerate(j):\n",
    "        if 'annotations' in l.keys() and len(l['annotations'])>0:\n",
    "#             bb_json[l['filename'].split('/')[-1]] = sorted(\n",
    "#                 l['annotations'], key=lambda x: x['height']*x['width'])[-1]\n",
    "        #use all bounding boxes\n",
    "            bb_json[l['filename'].split('/')[-1]] = l['annotations']\n",
    "        \n",
    "        #uncomment to see photos with more than 1 fish\n",
    "#         if len(l['annotations']) > 1:\n",
    "#             print (l['filename'] , \", index: \", i, \", num bbox: \",len(l['annotations']) )"
   ]
  },
  {
   "cell_type": "code",
   "execution_count": 17,
   "metadata": {
    "collapsed": false
   },
   "outputs": [],
   "source": [
    "# bb_json['img_01912.jpg']\n"
   ]
  },
  {
   "cell_type": "code",
   "execution_count": 18,
   "metadata": {
    "collapsed": false
   },
   "outputs": [],
   "source": [
    "#For any images that have no annotations, we'll create an empty bounding box.\n",
    "\n",
    "empty_bbox = {'height': 0., 'width': 0., 'x': 0., 'y': 0.}\n",
    "training_null_count = 0 \n",
    "valid_null_count = 0 \n",
    "\n",
    "for f in raw_filenames:\n",
    "    if not f in bb_json.keys():\n",
    "#         print (f, \" not found (training)\")\n",
    "        bb_json[f] = [empty_bbox]\n",
    "        training_null_count += 1 \n",
    "        \n",
    "for f in raw_val_filenames:\n",
    "    if not f in bb_json.keys(): \n",
    "#         print (f, \" not found (validation)\")\n",
    "        bb_json[f] = [empty_bbox]\n",
    "        valid_null_count += 1\n",
    "        \n",
    "         "
   ]
  },
  {
   "cell_type": "code",
   "execution_count": 19,
   "metadata": {
    "collapsed": false
   },
   "outputs": [],
   "source": [
    "# bb_json['img_00022.jpg']\n"
   ]
  },
  {
   "cell_type": "code",
   "execution_count": 20,
   "metadata": {
    "collapsed": false,
    "scrolled": true
   },
   "outputs": [
    {
     "name": "stdout",
     "output_type": "stream",
     "text": [
      "420 60\n"
     ]
    }
   ],
   "source": [
    "print (training_null_count, valid_null_count)"
   ]
  },
  {
   "cell_type": "code",
   "execution_count": 21,
   "metadata": {
    "collapsed": false
   },
   "outputs": [],
   "source": [
    "bb_params = ['height', 'width', 'x', 'y']\n",
    "\n",
    "#bb: an array of boxes\n",
    "def convert_bb(boxes, size, resized_width=640.,resized_height=360. ):\n",
    "    \n",
    "    output = []\n",
    "#     print (boxes)\n",
    "\n",
    "    for bb in boxes:\n",
    "    \n",
    "        bb = [bb[p] for p in bb_params]\n",
    "\n",
    "\n",
    "            # conversion factors\n",
    "        conv_x = (resized_width / size[0])\n",
    "        conv_y = (resized_height / size[1])\n",
    "\n",
    "\n",
    "        bb[0] = bb[0]*conv_y#+10\n",
    "        bb[1] = bb[1]*conv_x#+10\n",
    "\n",
    "    #     bb[2] = max((bb[2]*conv_x - 10), 0)\n",
    "    #     bb[3] = max((bb[3]*conv_y - 10), 0)\n",
    "        bb[2] = max((bb[2]*conv_x), 0)\n",
    "        bb[3] = max((bb[3]*conv_y), 0)\n",
    "\n",
    "#         print (bb)\n",
    "        \n",
    "        output.append(bb)\n",
    "\n",
    "\n",
    "    return output\n",
    "    "
   ]
  },
  {
   "cell_type": "code",
   "execution_count": 22,
   "metadata": {
    "collapsed": true
   },
   "outputs": [],
   "source": [
    "sizes = [PIL.Image.open(path+'train/'+f).size for f in filenames]\n",
    "raw_val_sizes = [PIL.Image.open(path+'valid/'+f).size for f in val_filenames]\n"
   ]
  },
  {
   "cell_type": "code",
   "execution_count": 23,
   "metadata": {
    "collapsed": false
   },
   "outputs": [],
   "source": [
    "trn_bbox = [convert_bb(bb_json[f], s) for f,s in zip(raw_filenames, sizes)]\n",
    "val_bbox = [convert_bb(bb_json[f], s) for f,s in zip(raw_val_filenames, raw_val_sizes)]"
   ]
  },
  {
   "cell_type": "code",
   "execution_count": 24,
   "metadata": {
    "collapsed": false
   },
   "outputs": [
    {
     "name": "stdout",
     "output_type": "stream",
     "text": [
      "3327 450\n"
     ]
    }
   ],
   "source": [
    "print (len(trn_bbox), len(val_bbox))"
   ]
  },
  {
   "cell_type": "code",
   "execution_count": 25,
   "metadata": {
    "collapsed": true
   },
   "outputs": [],
   "source": [
    "def create_rect(bb, color='red'):\n",
    "    return plt.Rectangle((bb[2], bb[3]), bb[1], bb[0], color=color, fill=False, lw=1)\n",
    "\n",
    "def show_bb(i):\n",
    "    boxes  = val_bbox[i]\n",
    "    plot(val[i])\n",
    "    for bb in boxes:\n",
    "        plt.gca().add_patch(create_rect(bb))"
   ]
  },
  {
   "cell_type": "code",
   "execution_count": 28,
   "metadata": {
    "collapsed": false
   },
   "outputs": [],
   "source": [
    "# show_bb(103)\n",
    "#286 #18"
   ]
  },
  {
   "cell_type": "markdown",
   "metadata": {},
   "source": [
    "### Create masks based on bounding boxes\n",
    "this will serve as the prediction target"
   ]
  },
  {
   "cell_type": "code",
   "execution_count": 16,
   "metadata": {
    "collapsed": false
   },
   "outputs": [],
   "source": [
    "# bb_params = ['height', 'width', 'x', 'y']\n",
    "\n",
    "def get_coordinates(bbox):\n",
    "    height = bbox[0]\n",
    "    width = bbox[1]\n",
    "    \n",
    "    #bottom left\n",
    "    x0 = bbox[2] \n",
    "    y0 =  bbox[3]\n",
    "\n",
    "    return [[x0,y0],[x0+width,y0],[x0+width,y0+height],[x0,y0+height]]\n"
   ]
  },
  {
   "cell_type": "code",
   "execution_count": 17,
   "metadata": {
    "collapsed": false
   },
   "outputs": [],
   "source": [
    "polygon_test = []\n",
    "\n",
    "for box in val_bbox[103]:\n",
    "    polygon_test.append(np.array(get_coordinates(box),np.int32))\n",
    "# polygon_test\n",
    "\n",
    "mask = np.zeros((360, 640), dtype=\"int32\")\n",
    "mask = cv2.fillPoly(mask, np.int32(polygon_test),255)\n"
   ]
  },
  {
   "cell_type": "code",
   "execution_count": 18,
   "metadata": {
    "collapsed": false,
    "scrolled": true
   },
   "outputs": [
    {
     "data": {
      "text/plain": [
       "<matplotlib.image.AxesImage at 0x7ff00165ffd0>"
      ]
     },
     "execution_count": 18,
     "metadata": {},
     "output_type": "execute_result"
    },
    {
     "data": {
      "image/png": "[encoded data removed]",
      "text/plain": [
       "<matplotlib.figure.Figure at 0x7ff001efd990>"
      ]
     },
     "metadata": {},
     "output_type": "display_data"
    }
   ],
   "source": [
    "plt.imshow(mask)"
   ]
  },
  {
   "cell_type": "markdown",
   "metadata": {},
   "source": [
    "Now that the sample is working, let's create our target patches in size 40x22"
   ]
  },
  {
   "cell_type": "code",
   "execution_count": 19,
   "metadata": {
    "collapsed": true
   },
   "outputs": [],
   "source": [
    "trn_bbox = [convert_bb(bb_json[f], s,resized_width=40,resized_height=22) for f,s in zip(raw_filenames, sizes)]\n",
    "val_bbox = [convert_bb(bb_json[f], s,resized_width=40,resized_height=22) for f,s in zip(raw_val_filenames, raw_val_sizes)]"
   ]
  },
  {
   "cell_type": "code",
   "execution_count": 20,
   "metadata": {
    "collapsed": false
   },
   "outputs": [],
   "source": [
    "trn_targets = []\n",
    "val_targets = [] \n",
    "\n",
    "\n",
    "#training bboxes\n",
    "for i,b in enumerate(trn_bbox):\n",
    "    \n",
    "    #get individual fish bboxes\n",
    "    mask_patches = []\n",
    "    for box in trn_bbox[i]:\n",
    "        mask_patches.append(np.array(get_coordinates(box),np.int32))    \n",
    "    \n",
    "    \n",
    "    mask = np.zeros((22, 40), dtype=\"int32\")\n",
    "    \n",
    "    mask = cv2.fillPoly(mask, np.int32(mask_patches),255)\n",
    "    trn_targets.append(mask)\n",
    "    \n",
    "    \n",
    "#validation bboxes\n",
    "for i,b in enumerate(val_bbox):\n",
    "    \n",
    "    mask_patches = []\n",
    "    for box in val_bbox[i]:\n",
    "        mask_patches.append(np.array(get_coordinates(box),np.int32))\n",
    "        \n",
    "        \n",
    "    mask = np.zeros((22, 40), dtype=\"int32\")\n",
    "    mask = cv2.fillPoly(mask, np.int32(mask_patches),255)\n",
    "    val_targets.append(mask)    "
   ]
  },
  {
   "cell_type": "code",
   "execution_count": 21,
   "metadata": {
    "collapsed": false
   },
   "outputs": [
    {
     "data": {
      "text/plain": [
       "<matplotlib.image.AxesImage at 0x7feffdd10ad0>"
      ]
     },
     "execution_count": 21,
     "metadata": {},
     "output_type": "execute_result"
    },
    {
     "data": {
      "image/png": "[encoded data removed]",
      "text/plain": [
       "<matplotlib.figure.Figure at 0x7ff001671710>"
      ]
     },
     "metadata": {},
     "output_type": "display_data"
    }
   ],
   "source": [
    "plt.imshow(val_targets[103])"
   ]
  },
  {
   "cell_type": "code",
   "execution_count": 22,
   "metadata": {
    "collapsed": false
   },
   "outputs": [
    {
     "data": {
      "text/plain": [
       "(3327, 22, 40)"
      ]
     },
     "execution_count": 22,
     "metadata": {},
     "output_type": "execute_result"
    }
   ],
   "source": [
    "np.array(trn_targets).shape"
   ]
  },
  {
   "cell_type": "markdown",
   "metadata": {},
   "source": [
    "## Model Training"
   ]
  },
  {
   "cell_type": "markdown",
   "metadata": {},
   "source": [
    "#### Loading data"
   ]
  },
  {
   "cell_type": "code",
   "execution_count": 35,
   "metadata": {
    "collapsed": false
   },
   "outputs": [],
   "source": [
    "#preprocessed photos\n",
    "# trn = load_array(DATA_HOME_DIR+\"fishnofish/results/trn_640_processed_1.5.dat\")\n",
    "# val = load_array(DATA_HOME_DIR+\"fishnofish/results/val_640_processed_1.5.dat\")\n",
    "# test = load_array(DATA_HOME_DIR+\"fishnofish/results/test_640_processed_1.5.dat\n",
    "\n",
    "\n",
    "#raw photos\n",
    "test = load_array(path+\"results/test_640.dat\")\n",
    "# val = load_array(path+\"results/val_640.dat\")"
   ]
  },
  {
   "cell_type": "markdown",
   "metadata": {},
   "source": [
    "Preprocessing conv features"
   ]
  },
  {
   "cell_type": "code",
   "execution_count": 47,
   "metadata": {
    "collapsed": false
   },
   "outputs": [
    {
     "name": "stdout",
     "output_type": "stream",
     "text": [
      "450/450 [==============================] - 55s    \n"
     ]
    }
   ],
   "source": [
    "#in case we need to precompute vgg features\n",
    "# vgg640 = Vgg16BN((360, 640)).model\n",
    "# vgg640.pop()\n",
    "# vgg640.compile(Adam(), 'categorical_crossentropy', metrics=['accuracy'])\n",
    "\n",
    "# conv_trn_feat = vgg640.predict(trn, batch_size=32, verbose=1)\n",
    "# conv_val_feat = vgg640.predict(val, batch_size=32, verbose=1)\n",
    "# conv_test_feat = vgg640.predict(test, batch_size=32, verbose=1)\n",
    "\n",
    "# save_array(DATA_HOME_DIR+\"fishnofish/results/conv_trn_640_processed_1.5.dat\", conv_trn_feat)\n",
    "# save_array(DATA_HOME_DIR+\"fishnofish/results/conv_val_640_processed_1.5.dat\", conv_val_feat)\n",
    "# save_array(DATA_HOME_DIR+\"fishnofish/results/conv_test_640_processed_1.5.dat\", conv_test_feat)\n"
   ]
  },
  {
   "cell_type": "code",
   "execution_count": 36,
   "metadata": {
    "collapsed": true
   },
   "outputs": [],
   "source": [
    "# conv_test_feat = load_array(DATA_HOME_DIR+\"fishnofish/results/conv_test_640_processed_1.5.dat\")\n",
    "# conv_val_feat = load_array(DATA_HOME_DIR+\"fishnofish/results/conv_val_640_processed_1.5.dat\")\n",
    "\n",
    "#from raw files (no-preprocessing)\n",
    "# conv_trn_feat = load_array(path+\"results/conv_trn_640.dat\")\n",
    "# conv_val_feat = load_array(path+\"results/conv_val_640.dat\")\n",
    "conv_test_feat = load_array(path+\"results/conv_test_640.dat\")\n",
    "\n"
   ]
  },
  {
   "cell_type": "markdown",
   "metadata": {},
   "source": [
    "#### Defining Model"
   ]
  },
  {
   "cell_type": "code",
   "execution_count": 30,
   "metadata": {
    "collapsed": false
   },
   "outputs": [],
   "source": [
    "vgg640 = Vgg16BN((360, 640)).model\n",
    "vgg640.pop()\n",
    "# print (vgg640.input_shape, vgg640.output_shape)\n",
    "vgg640.compile(Adam(), 'categorical_crossentropy', metrics=[ 'accuracy'])"
   ]
  },
  {
   "cell_type": "code",
   "execution_count": 31,
   "metadata": {
    "collapsed": true
   },
   "outputs": [],
   "source": [
    "conv_layers,_ = split_at(vgg640, Convolution2D)"
   ]
  },
  {
   "cell_type": "code",
   "execution_count": 32,
   "metadata": {
    "collapsed": true
   },
   "outputs": [],
   "source": [
    "nf=128; p=0.6\n",
    "\n",
    "# from keras.layers.pooling import GlobalMaxPooling2D\n",
    "def get_lrg_layers():\n",
    "    return [\n",
    "        BatchNormalization(axis=1, input_shape=conv_layers[-1].output_shape[1:]),\n",
    "        Convolution2D(nf,3,3, activation='relu', border_mode='same'),\n",
    "        BatchNormalization(axis=1),\n",
    "        Dropout(p/3),\n",
    "\n",
    "        Convolution2D(nf,3,3, activation='relu', border_mode='same'),\n",
    "        BatchNormalization(axis=1),\n",
    "        Dropout(p/2),\n",
    "\n",
    "        Convolution2D(nf,3,3, activation='relu', border_mode='same'),\n",
    "        BatchNormalization(axis=1),\n",
    "        Dropout(p),\n",
    "        \n",
    "        Convolution2D(1,3,3, border_mode='same')\n",
    "#         GlobalAveragePooling2D(),\n",
    "#         Activation('softmax')\n",
    "    ]"
   ]
  },
  {
   "cell_type": "code",
   "execution_count": 33,
   "metadata": {
    "collapsed": false
   },
   "outputs": [],
   "source": [
    "model = Sequential(get_lrg_layers())"
   ]
  },
  {
   "cell_type": "code",
   "execution_count": 29,
   "metadata": {
    "collapsed": false
   },
   "outputs": [],
   "source": [
    "# model.summary()"
   ]
  },
  {
   "cell_type": "code",
   "execution_count": 34,
   "metadata": {
    "collapsed": false
   },
   "outputs": [],
   "source": [
    "model.compile(Adam(lr=0.001), loss='mean_squared_error', metrics=['accuracy'])"
   ]
  },
  {
   "cell_type": "code",
   "execution_count": 33,
   "metadata": {
    "collapsed": false
   },
   "outputs": [],
   "source": [
    "trn_targets = np.array(trn_targets)\n",
    "val_targets = np.array(val_targets)\n",
    "\n",
    "trn_reshaped = trn_targets.reshape(trn_targets.shape[0],1,trn_targets.shape[1],trn_targets.shape[2])\n",
    "val_reshaped = val_targets.reshape(val_targets.shape[0],1,val_targets.shape[1],val_targets.shape[2])\n",
    "# trn_targets.reshape(trn_targets.shape[0],1,trn_targets.shape[1],trn_targets.shape[2]).shape"
   ]
  },
  {
   "cell_type": "code",
   "execution_count": 34,
   "metadata": {
    "collapsed": false
   },
   "outputs": [
    {
     "name": "stdout",
     "output_type": "stream",
     "text": [
      "Train on 3327 samples, validate on 450 samples\n",
      "Epoch 1/5\n",
      "3327/3327 [==============================] - 31s - loss: 1727.0304 - acc: 0.0476 - val_loss: 1481.3690 - val_acc: 0.0812\n",
      "Epoch 2/5\n",
      "3327/3327 [==============================] - 31s - loss: 1059.6666 - acc: 0.0412 - val_loss: 1047.4629 - val_acc: 0.1453\n",
      "Epoch 3/5\n",
      "3327/3327 [==============================] - 31s - loss: 834.7938 - acc: 0.0737 - val_loss: 944.1535 - val_acc: 0.3189\n",
      "Epoch 4/5\n",
      "3327/3327 [==============================] - 31s - loss: 690.7226 - acc: 0.0950 - val_loss: 891.0274 - val_acc: 0.3494\n",
      "Epoch 5/5\n",
      "3327/3327 [==============================] - 31s - loss: 592.5092 - acc: 0.1131 - val_loss: 977.3064 - val_acc: 0.3510\n"
     ]
    },
    {
     "data": {
      "text/plain": [
       "<keras.callbacks.History at 0x7fedc4d0bc10>"
      ]
     },
     "execution_count": 34,
     "metadata": {},
     "output_type": "execute_result"
    }
   ],
   "source": [
    "model.fit(conv_trn_feat, trn_reshaped, batch_size=batch_size, nb_epoch=5, \n",
    "             validation_data=(conv_val_feat, val_reshaped))"
   ]
  },
  {
   "cell_type": "markdown",
   "metadata": {},
   "source": [
    "Training more (even with smaller learning rates) has made the results worse, so i'll stop here."
   ]
  },
  {
   "cell_type": "code",
   "execution_count": 41,
   "metadata": {
    "collapsed": true
   },
   "outputs": [],
   "source": [
    "# model.save_weights(path+\"models/bboxdetector_lr3_good_visual_accuracy.hd5\")\n",
    "# model.save_weights(DATA_HOME_DIR+\"fishnofish/models/bboxdetector_lr3_1.5contrast_multibbox.hd5\")\n",
    "# model.load_weights(DATA_HOME_DIR+\"fishnofish/models/bboxdetector_lr3_1.5contrast_multibbox.hd5\")\n",
    "\n",
    "model.save_weights(DATA_HOME_DIR+\"fishnofish/models/bboxdetector_lr3_nopreprocess_multibbox.hd5\")\n"
   ]
  },
  {
   "cell_type": "code",
   "execution_count": 42,
   "metadata": {
    "collapsed": false
   },
   "outputs": [
    {
     "name": "stdout",
     "output_type": "stream",
     "text": [
      "Train on 3327 samples, validate on 450 samples\n",
      "Epoch 1/5\n",
      "3327/3327 [==============================] - 31s - loss: 516.1465 - acc: 0.1142 - val_loss: 804.7495 - val_acc: 0.1152\n",
      "Epoch 2/5\n",
      "3327/3327 [==============================] - 31s - loss: 452.1440 - acc: 0.1084 - val_loss: 827.0817 - val_acc: 0.0733\n",
      "Epoch 3/5\n",
      "3327/3327 [==============================] - 31s - loss: 411.7697 - acc: 0.1128 - val_loss: 784.7364 - val_acc: 0.3597\n",
      "Epoch 4/5\n",
      "3327/3327 [==============================] - 31s - loss: 368.6608 - acc: 0.1121 - val_loss: 823.8638 - val_acc: 0.1505\n",
      "Epoch 5/5\n",
      "3327/3327 [==============================] - 31s - loss: 336.3535 - acc: 0.1144 - val_loss: 790.2713 - val_acc: 0.1072\n"
     ]
    },
    {
     "data": {
      "text/plain": [
       "<keras.callbacks.History at 0x7febfb2f0950>"
      ]
     },
     "execution_count": 42,
     "metadata": {},
     "output_type": "execute_result"
    }
   ],
   "source": [
    "model.optimizer.lr = 1e-5\n",
    "model.fit(conv_trn_feat, trn_reshaped, batch_size=batch_size, nb_epoch=5, \n",
    "             validation_data=(conv_val_feat, val_reshaped))"
   ]
  },
  {
   "cell_type": "code",
   "execution_count": 51,
   "metadata": {
    "collapsed": true
   },
   "outputs": [],
   "source": [
    "model.save_weights(DATA_HOME_DIR+\"fishnofish/models/bboxdetector_lr5_nopreprocess_multibbox.hd5\")\n"
   ]
  },
  {
   "cell_type": "code",
   "execution_count": 52,
   "metadata": {
    "collapsed": false
   },
   "outputs": [
    {
     "name": "stdout",
     "output_type": "stream",
     "text": [
      "Train on 3327 samples, validate on 450 samples\n",
      "Epoch 1/5\n",
      "3327/3327 [==============================] - 31s - loss: 315.4581 - acc: 0.1070 - val_loss: 791.2316 - val_acc: 0.1209\n",
      "Epoch 2/5\n",
      "3327/3327 [==============================] - 31s - loss: 295.6031 - acc: 0.1126 - val_loss: 789.9285 - val_acc: 0.2021\n",
      "Epoch 3/5\n",
      "3327/3327 [==============================] - 31s - loss: 279.0887 - acc: 0.1099 - val_loss: 795.7281 - val_acc: 0.1948\n",
      "Epoch 4/5\n",
      "3327/3327 [==============================] - 31s - loss: 265.2959 - acc: 0.1167 - val_loss: 802.0773 - val_acc: 0.1822\n",
      "Epoch 5/5\n",
      "3327/3327 [==============================] - 31s - loss: 251.0207 - acc: 0.1150 - val_loss: 798.6570 - val_acc: 0.2069\n"
     ]
    },
    {
     "data": {
      "text/plain": [
       "<keras.callbacks.History at 0x7febfa1ab050>"
      ]
     },
     "execution_count": 52,
     "metadata": {},
     "output_type": "execute_result"
    }
   ],
   "source": [
    "model.optimizer.lr = 1e-7\n",
    "model.fit(conv_trn_feat, trn_reshaped, batch_size=batch_size, nb_epoch=5, \n",
    "             validation_data=(conv_val_feat, val_reshaped))"
   ]
  },
  {
   "cell_type": "code",
   "execution_count": 78,
   "metadata": {
    "collapsed": true
   },
   "outputs": [],
   "source": [
    "model.save_weights(DATA_HOME_DIR+\"fishnofish/models/bboxdetector_lr7_nopreprocess_multibbox.hd5\")\n"
   ]
  },
  {
   "cell_type": "code",
   "execution_count": 36,
   "metadata": {
    "collapsed": false
   },
   "outputs": [],
   "source": [
    "num_image = 339\n",
    "\n",
    "l = model.layers\n",
    "conv_fn = K.function([l[0].input, K.learning_phase()], l[-1].output)\n",
    "\n",
    "def get_cm(inp, label):\n",
    "    conv = conv_fn([inp,0])[0, label] #conf_fn shape (1, 1, 22, 40)\n",
    "    return scipy.misc.imresize(conv, (360,640), interp='nearest')\n",
    "\n",
    "\n",
    "# plt.imshow(to_plot(val[num_image]))"
   ]
  },
  {
   "cell_type": "code",
   "execution_count": 54,
   "metadata": {
    "collapsed": false,
    "scrolled": false
   },
   "outputs": [
    {
     "data": {
      "text/plain": [
       "<matplotlib.image.AxesImage at 0x7febf92a2a50>"
      ]
     },
     "execution_count": 54,
     "metadata": {},
     "output_type": "execute_result"
    },
    {
     "data": {
      "image/png": "[encoded data removed]",
      "text/plain": [
       "<matplotlib.figure.Figure at 0x7febfa326e50>"
      ]
     },
     "metadata": {},
     "output_type": "display_data"
    }
   ],
   "source": [
    "inp = np.expand_dims(conv_val_feat[num_image], 0)\n",
    "np.round(model.predict(inp)[0],2)\n",
    "\n",
    "\n",
    "cm = get_cm(inp, 0)\n",
    "plt.imshow(cm, cmap=\"cool\")"
   ]
  },
  {
   "cell_type": "markdown",
   "metadata": {},
   "source": [
    "#### Verifing performance on test data"
   ]
  },
  {
   "cell_type": "code",
   "execution_count": 37,
   "metadata": {
    "collapsed": false
   },
   "outputs": [],
   "source": [
    "#bad: 489 486 513 580  629\n",
    "#fantastic:  200 48\n",
    "#easy: 413 412 195 918\n",
    "\n",
    "#fixed 999\n",
    "#got worse 522 200\n",
    "# 522 fixed after \n",
    "num_image = 390\n",
    "# plt.imshow(to_plot(test[num_image]))\n"
   ]
  },
  {
   "cell_type": "code",
   "execution_count": 71,
   "metadata": {
    "collapsed": false
   },
   "outputs": [
    {
     "data": {
      "text/plain": [
       "<matplotlib.image.AxesImage at 0x7febfad52750>"
      ]
     },
     "execution_count": 71,
     "metadata": {},
     "output_type": "execute_result"
    },
    {
     "data": {
      "image/png": "[encoded data removed]",
      "text/plain": [
       "<matplotlib.figure.Figure at 0x7febf81e6850>"
      ]
     },
     "metadata": {},
     "output_type": "display_data"
    }
   ],
   "source": [
    "inp = np.expand_dims(conv_test_feat[num_image], 0)\n",
    "# inp = np.round(model.predict(inp)[0],2)\n",
    "\n",
    "\n",
    "# cm = get_cm(inp, 0)\n",
    "conv = conv_fn([inp,0])[0, 0] #conf_fn shape (1, 1, 22, 40)\n",
    "cm =  scipy.misc.imresize(conv, (360,640), interp='nearest')\n",
    "plt.imshow(cm, cmap=\"cool\")"
   ]
  },
  {
   "cell_type": "markdown",
   "metadata": {},
   "source": [
    "### Crop hotzones"
   ]
  },
  {
   "cell_type": "code",
   "execution_count": 72,
   "metadata": {
    "collapsed": false
   },
   "outputs": [],
   "source": [
    "ret, thresh = cv2.threshold(cm, 200, 255, 0)\n",
    "im2, contours, hierarchy = cv2.findContours(thresh, cv2.RETR_TREE, cv2.CHAIN_APPROX_SIMPLE)"
   ]
  },
  {
   "cell_type": "code",
   "execution_count": 73,
   "metadata": {
    "collapsed": false
   },
   "outputs": [
    {
     "data": {
      "text/plain": [
       "<matplotlib.image.AxesImage at 0x7febfb04b5d0>"
      ]
     },
     "execution_count": 73,
     "metadata": {},
     "output_type": "execute_result"
    },
    {
     "data": {
      "image/png": "[encoded data removed]",
      "text/plain": [
       "<matplotlib.figure.Figure at 0x7febfac5ba10>"
      ]
     },
     "metadata": {},
     "output_type": "display_data"
    }
   ],
   "source": [
    "plt.imshow(cv2.drawContours(cm, contours, -1, (0,255,0), 3))\n"
   ]
  },
  {
   "cell_type": "code",
   "execution_count": 74,
   "metadata": {
    "collapsed": false
   },
   "outputs": [
    {
     "data": {
      "text/plain": [
       "<matplotlib.image.AxesImage at 0x7fec027d31d0>"
      ]
     },
     "execution_count": 74,
     "metadata": {},
     "output_type": "execute_result"
    },
    {
     "data": {
      "image/png": "[encoded data removed]",
      "text/plain": [
       "<matplotlib.figure.Figure at 0x7febfbb32e10>"
      ]
     },
     "metadata": {},
     "output_type": "display_data"
    }
   ],
   "source": [
    "# find a better function than surface. total sum of pixels inside?\n",
    "def find_biggest_contour(contours):\n",
    "    \n",
    "    # nofish? \n",
    "    \n",
    "    \n",
    "#     if len(contours) == 1 :\n",
    "#         return 0\n",
    "    \n",
    "    #if more than one contour, find the biggest contour surface\n",
    "    biggest_contour_index = -1 \n",
    "    biggest_contour_surface = 0\n",
    "\n",
    "    i = 0\n",
    "    for c in contours:\n",
    "        # compute the center of the contour\n",
    "        area = cv2.contourArea(c)\n",
    "        if area > biggest_contour_surface:\n",
    "            biggest_contour_surface = area\n",
    "            biggest_contour_index = i\n",
    "        i += 1\n",
    "        \n",
    "    return biggest_contour_index        \n",
    "        \n",
    "#find center of the biggest contour\n",
    "\n",
    "i = find_biggest_contour(contours)\n",
    "M = cv2.moments(contours[i])\n",
    "cX = int(M[\"m10\"] / M[\"m00\"])\n",
    "cY = int(M[\"m01\"] / M[\"m00\"])\n",
    "    \n",
    "\n",
    "# draw the contour and center of the shape on the image\n",
    "cv2.circle(cm, (cX, cY), 7, (0, 0, 0), -1)\n",
    "plt.imshow(cv2.drawContours(cm, [contours[i]], -1, (0, 255, 0), 2))\n"
   ]
  },
  {
   "cell_type": "code",
   "execution_count": 214,
   "metadata": {
    "collapsed": false
   },
   "outputs": [
    {
     "name": "stdout",
     "output_type": "stream",
     "text": [
      "345 253\n"
     ]
    }
   ],
   "source": [
    "print (cX,cY)"
   ]
  },
  {
   "cell_type": "code",
   "execution_count": 75,
   "metadata": {
    "collapsed": false
   },
   "outputs": [],
   "source": [
    "crop_width = 450\n",
    "width = 640\n",
    "height = 360\n",
    "\n",
    "x = max(cX - crop_width/2, 0)\n",
    "y = max(cY - crop_width/2, 0)\n",
    "    \n",
    "if x + crop_width > width:\n",
    "    x = width - crop_width\n",
    "if y + crop_width > height:\n",
    "    y = height - crop_width\n",
    "\n",
    "x = int(x)\n",
    "y = int(y)"
   ]
  },
  {
   "cell_type": "code",
   "execution_count": 76,
   "metadata": {
    "collapsed": false
   },
   "outputs": [
    {
     "name": "stdout",
     "output_type": "stream",
     "text": [
      "105 -90\n"
     ]
    }
   ],
   "source": [
    "print (x,y)"
   ]
  },
  {
   "cell_type": "code",
   "execution_count": 77,
   "metadata": {
    "collapsed": false
   },
   "outputs": [
    {
     "data": {
      "text/plain": [
       "<matplotlib.image.AxesImage at 0x7fec026e97d0>"
      ]
     },
     "execution_count": 77,
     "metadata": {},
     "output_type": "execute_result"
    },
    {
     "data": {
      "image/png": "[encoded data removed]",
      "text/plain": [
       "<matplotlib.figure.Figure at 0x7febfac68290>"
      ]
     },
     "metadata": {},
     "output_type": "display_data"
    }
   ],
   "source": [
    "# plt.gca().add_patch(plt.Rectangle((0, 0), 10, 10, color='red', fill=False, lw=2))\n",
    "cv2.circle(cm, (cX, cY), 7, (0, 0, 0), -1)\n",
    "cv2.rectangle(cm,(x,y),(x+crop_width,y+crop_width),color=(255, 255, 255))\n",
    "plt.imshow(cv2.drawContours(cm, [contours[i]], -1, (0, 255, 0), 2))\n",
    "\n"
   ]
  },
  {
   "cell_type": "markdown",
   "metadata": {},
   "source": [
    "### Crop all test data"
   ]
  },
  {
   "cell_type": "code",
   "execution_count": 80,
   "metadata": {
    "collapsed": false
   },
   "outputs": [],
   "source": [
    "test_path = DATA_HOME_DIR+\"fishnofish/test/test_stg1/\"\n",
    "export_path = DATA_HOME_DIR+'/cropped_nof_excl/test/multibox_nopreproc_noaug/'\n",
    "\n",
    "crop_width = 450\n"
   ]
  },
  {
   "cell_type": "code",
   "execution_count": 38,
   "metadata": {
    "collapsed": false
   },
   "outputs": [],
   "source": [
    "for i,t in enumerate(raw_test_filenames):\n",
    "    \n",
    "    \n",
    "    if i < 289: #remove this to generate all crops\n",
    "        continue\n",
    "        \n",
    "        \n",
    "        \n",
    "    test_img = cv2.imread(test_path+t)\n",
    "    img_width = test_img.shape[1]\n",
    "    img_height = test_img.shape[0]\n",
    "    \n",
    "#     plt.imshow(test_img)\n",
    "    #predict\n",
    "    inp = np.expand_dims(conv_test_feat[i], 0)\n",
    "    conv = conv_fn([inp,0])[0, 0] #conf_fn shape (1, 1, 22, 40)\n",
    "    cm = scipy.misc.imresize(conv, (img_height,img_width), interp='nearest')\n",
    "    \n",
    "    #find contours\n",
    "    ret, thresh = cv2.threshold(cm, 200, 255, 0)\n",
    "    im2, contours, hierarchy = cv2.findContours(thresh, cv2.RETR_TREE, cv2.CHAIN_APPROX_SIMPLE)\n",
    "    \n",
    "    \n",
    "    #find center of the biggest contour\n",
    "\n",
    "    i = find_biggest_contour(contours)\n",
    "    M = cv2.moments(contours[i])\n",
    "    cX = int(M[\"m10\"] / M[\"m00\"])\n",
    "    cY = int(M[\"m01\"] / M[\"m00\"])\n",
    "    \n",
    "    \n",
    "    #calculate boundries of bounding box\n",
    "    x = max(cX - crop_width/2, 0)\n",
    "    y = max(cY - crop_width/2, 0)\n",
    "\n",
    "    if x + crop_width > img_width:\n",
    "        x = img_width - crop_width\n",
    "    if y + crop_width > img_height:\n",
    "        y = img_height - crop_width\n",
    "        \n",
    "    x = int(x)\n",
    "    y = int(y)\n",
    "\n",
    "    \n",
    "###### plot bounding box    \n",
    "#     cv2.rectangle(cm,(x,y),(x+crop_width,y+crop_width),color=(255, 255, 255))\n",
    "#     plt.imshow(cv2.drawContours(cm, [contours[i]], -1, (0, 255, 0), 2))\n",
    "\n",
    "##### crop the image and save\n",
    "    crop_img = test_img[y:y+crop_width, x:x+crop_width]\n",
    "#     plt.imshow(crop_img)\n",
    "#     cv2.imwrite(export_path+t,crop_img)\n",
    "    break"
   ]
  },
  {
   "cell_type": "code",
   "execution_count": null,
   "metadata": {
    "collapsed": true
   },
   "outputs": [],
   "source": []
  }
 ],
 "metadata": {
  "anaconda-cloud": {},
  "kernelspec": {
   "display_name": "Python [conda root]",
   "language": "python",
   "name": "conda-root-py"
  },
  "language_info": {
   "codemirror_mode": {
    "name": "ipython",
    "version": 2
   },
   "file_extension": ".py",
   "mimetype": "text/x-python",
   "name": "python",
   "nbconvert_exporter": "python",
   "pygments_lexer": "ipython2",
   "version": "2.7.12"
  }
 },
 "nbformat": 4,
 "nbformat_minor": 1
}
